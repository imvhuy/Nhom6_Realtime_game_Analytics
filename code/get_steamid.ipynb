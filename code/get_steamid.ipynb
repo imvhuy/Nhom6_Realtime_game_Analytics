{
 "cells": [
  {
   "cell_type": "code",
   "execution_count": null,
   "id": "94b1644e",
   "metadata": {},
   "outputs": [
    {
     "name": "stdout",
     "output_type": "stream",
     "text": [
      "Đã lưu danh sách steamid vào steam_friends.csv\n"
     ]
    }
   ],
   "source": [
    "import requests\n",
    "import csv\n",
    "\n",
    "# URL API (thay bằng link thật của bạn)\n",
    "url = \"https://api.steampowered.com/ISteamUser/GetFriendList/v0001/?key=9D834392B85C588E56E887E7C28FED23&steamid=76561197993609350&relationship=friend\"\n",
    "\n",
    "# Gửi request và lấy dữ liệu JSON\n",
    "response = requests.get(url)\n",
    "data = response.json()\n",
    "\n",
    "# Lấy danh sách bạn bè\n",
    "friends = data[\"friendslist\"][\"friends\"]\n",
    "\n",
    "# Ghi ra file CSV\n",
    "with open(\"steam_ids.csv\", mode=\"w\", newline=\"\", encoding=\"utf-8\") as file:\n",
    "    writer = csv.writer(file)\n",
    "    writer.writerow([\"steamid\"])  # tiêu đề cột\n",
    "    for friend in friends:\n",
    "        writer.writerow([friend[\"steamid\"]])\n",
    "\n",
    "print(\"Đã lưu danh sách steamid vào steam_friends.csv\")\n"
   ]
  }
 ],
 "metadata": {
  "kernelspec": {
   "display_name": "base",
   "language": "python",
   "name": "python3"
  },
  "language_info": {
   "codemirror_mode": {
    "name": "ipython",
    "version": 3
   },
   "file_extension": ".py",
   "mimetype": "text/x-python",
   "name": "python",
   "nbconvert_exporter": "python",
   "pygments_lexer": "ipython3",
   "version": "3.13.5"
  }
 },
 "nbformat": 4,
 "nbformat_minor": 5
}
